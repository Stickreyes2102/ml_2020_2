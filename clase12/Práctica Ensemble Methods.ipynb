{
 "cells": [
  {
   "cell_type": "code",
   "execution_count": 5,
   "metadata": {},
   "outputs": [],
   "source": [
    "import pandas as pd\n",
    "import numpy as np\n",
    "import matplotlib.pyplot as plt\n",
    "import os\n",
    "from sklearn.model_selection import GridSearchCV\n",
    "from sklearn import tree\n",
    "from sklearn.linear_model import LogisticRegression\n",
    "from sklearn.ensemble import RandomForestClassifier, GradientBoostingClassifier, AdaBoostClassifier\n",
    "from sklearn.metrics import accuracy_score, roc_curve, auc, confusion_matrix\n",
    "from matplotlib.legend_handler import HandlerLine2D\n"
   ]
  },
  {
   "cell_type": "code",
   "execution_count": 10,
   "metadata": {
    "scrolled": true
   },
   "outputs": [
    {
     "data": {
      "text/plain": [
       "(1432, 12)"
      ]
     },
     "execution_count": 10,
     "metadata": {},
     "output_type": "execute_result"
    }
   ],
   "source": [
    "os.chdir(r'C:\\Users\\Home\\Documents\\Laboral2020\\Konrad Lorenz\\Semestre2\\MachineLearning\\Clase 12')\n",
    "df=pd.read_excel('datosChurn.xlsx')\n",
    "df.columns\n",
    "df.head()\n",
    "df.shape"
   ]
  },
  {
   "cell_type": "code",
   "execution_count": 14,
   "metadata": {},
   "outputs": [
    {
     "data": {
      "text/plain": [
       "1    797\n",
       "0    635\n",
       "Name: casado_unionlibre, dtype: int64"
      ]
     },
     "execution_count": 14,
     "metadata": {},
     "output_type": "execute_result"
    }
   ],
   "source": [
    "df.casado_unionlibre.value_counts()"
   ]
  },
  {
   "cell_type": "code",
   "execution_count": 15,
   "metadata": {},
   "outputs": [
    {
     "name": "stderr",
     "output_type": "stream",
     "text": [
      "C:\\Users\\Home\\Anaconda3\\lib\\site-packages\\ipykernel_launcher.py:3: UserWarning: Pandas doesn't allow columns to be created via a new attribute name - see https://pandas.pydata.org/pandas-docs/stable/indexing.html#attribute-access\n",
      "  This is separate from the ipykernel package so we can avoid doing imports until\n",
      "C:\\Users\\Home\\Anaconda3\\lib\\site-packages\\ipykernel_launcher.py:10: UserWarning: Pandas doesn't allow columns to be created via a new attribute name - see https://pandas.pydata.org/pandas-docs/stable/indexing.html#attribute-access\n",
      "  # Remove the CWD from sys.path while we load stuff.\n"
     ]
    },
    {
     "data": {
      "text/plain": [
       "Index(['Masculino', 'LEY 50 NOMINAL TERMINO FIJO',\n",
       "       'LEY 50 NOMINAL TERMINO INDEFIN', 'LEY TRADICIONAL NOMINAL', 'Casado',\n",
       "       'Comercial', 'Lideres-Claves', 'Operativo', 'Soporte',\n",
       "       'NO SINDICALIZADO', 'B', 'C', 'D', 'E', 'F'],\n",
       "      dtype='object')"
      ]
     },
     "execution_count": 15,
     "metadata": {},
     "output_type": "execute_result"
    }
   ],
   "source": [
    "df_dummies_sexo=pd.get_dummies(df['sexo'])\n",
    "df_dummies_sexo=df_dummies_sexo.iloc[:,[1]]\n",
    "df_dummies_sexo.colums=['Masculino']\n",
    "\n",
    "df_dummies_Tipo_nomina=pd.get_dummies(df['Tipo_nomina'])\n",
    "df_dummies_Tipo_nomina=df_dummies_Tipo_nomina.iloc[:,[1,2,3]]\n",
    "\n",
    "df_dummies_casado_unionlibre=pd.get_dummies(df['casado_unionlibre'])\n",
    "df_dummies_casado_unionlibre=df_dummies_casado_unionlibre.iloc[:,[1]]\n",
    "df_dummies_casado_unionlibre.colums=['casado']\n",
    "\n",
    "\n",
    "df_dummies_tipocargo=pd.get_dummies(df['tipocargo'])\n",
    "df_dummies_tipocargo=df_dummies_tipocargo.iloc[:,[1,2,3,4]]\n",
    "\n",
    "\n",
    "df_dummies_sindicalizado=pd.get_dummies(df['sindicalizado'])\n",
    "df_dummies_sindicalizado=df_dummies_sindicalizado.iloc[:,[1]]\n",
    "\n",
    "df_dummies_ubicacion=pd.get_dummies(df['id_ubicacion'])\n",
    "df_dummies_ubicacion=df_dummies_ubicacion.iloc[:,[1,2,3,4,5]]\n",
    "\n",
    "df_dummies=pd.concat([df_dummies_sexo,df_dummies_Tipo_nomina,df_dummies_casado_unionlibre,df_dummies_tipocargo,df_dummies_sindicalizado,df_dummies_ubicacion], axis=1)\n",
    "df_dummies.rename(columns = {'M':'Masculino', 1:'Casado'}, inplace = True) \n",
    "df_dummies.columns"
   ]
  },
  {
   "cell_type": "code",
   "execution_count": 16,
   "metadata": {},
   "outputs": [
    {
     "data": {
      "text/html": [
       "<div>\n",
       "<style scoped>\n",
       "    .dataframe tbody tr th:only-of-type {\n",
       "        vertical-align: middle;\n",
       "    }\n",
       "\n",
       "    .dataframe tbody tr th {\n",
       "        vertical-align: top;\n",
       "    }\n",
       "\n",
       "    .dataframe thead th {\n",
       "        text-align: right;\n",
       "    }\n",
       "</style>\n",
       "<table border=\"1\" class=\"dataframe\">\n",
       "  <thead>\n",
       "    <tr style=\"text-align: right;\">\n",
       "      <th></th>\n",
       "      <th>Masculino</th>\n",
       "      <th>LEY 50 NOMINAL TERMINO FIJO</th>\n",
       "      <th>LEY 50 NOMINAL TERMINO INDEFIN</th>\n",
       "      <th>LEY TRADICIONAL NOMINAL</th>\n",
       "      <th>Casado</th>\n",
       "      <th>Comercial</th>\n",
       "      <th>Lideres-Claves</th>\n",
       "      <th>Operativo</th>\n",
       "      <th>Soporte</th>\n",
       "      <th>NO SINDICALIZADO</th>\n",
       "      <th>B</th>\n",
       "      <th>C</th>\n",
       "      <th>D</th>\n",
       "      <th>E</th>\n",
       "      <th>F</th>\n",
       "    </tr>\n",
       "  </thead>\n",
       "  <tbody>\n",
       "    <tr>\n",
       "      <th>0</th>\n",
       "      <td>1</td>\n",
       "      <td>0</td>\n",
       "      <td>1</td>\n",
       "      <td>0</td>\n",
       "      <td>0</td>\n",
       "      <td>0</td>\n",
       "      <td>0</td>\n",
       "      <td>0</td>\n",
       "      <td>0</td>\n",
       "      <td>1</td>\n",
       "      <td>0</td>\n",
       "      <td>1</td>\n",
       "      <td>0</td>\n",
       "      <td>0</td>\n",
       "      <td>0</td>\n",
       "    </tr>\n",
       "    <tr>\n",
       "      <th>1</th>\n",
       "      <td>1</td>\n",
       "      <td>0</td>\n",
       "      <td>1</td>\n",
       "      <td>0</td>\n",
       "      <td>1</td>\n",
       "      <td>0</td>\n",
       "      <td>0</td>\n",
       "      <td>1</td>\n",
       "      <td>0</td>\n",
       "      <td>1</td>\n",
       "      <td>0</td>\n",
       "      <td>0</td>\n",
       "      <td>0</td>\n",
       "      <td>0</td>\n",
       "      <td>0</td>\n",
       "    </tr>\n",
       "    <tr>\n",
       "      <th>2</th>\n",
       "      <td>1</td>\n",
       "      <td>1</td>\n",
       "      <td>0</td>\n",
       "      <td>0</td>\n",
       "      <td>0</td>\n",
       "      <td>0</td>\n",
       "      <td>0</td>\n",
       "      <td>1</td>\n",
       "      <td>0</td>\n",
       "      <td>1</td>\n",
       "      <td>0</td>\n",
       "      <td>0</td>\n",
       "      <td>0</td>\n",
       "      <td>0</td>\n",
       "      <td>0</td>\n",
       "    </tr>\n",
       "    <tr>\n",
       "      <th>3</th>\n",
       "      <td>1</td>\n",
       "      <td>1</td>\n",
       "      <td>0</td>\n",
       "      <td>0</td>\n",
       "      <td>0</td>\n",
       "      <td>0</td>\n",
       "      <td>0</td>\n",
       "      <td>1</td>\n",
       "      <td>0</td>\n",
       "      <td>1</td>\n",
       "      <td>0</td>\n",
       "      <td>1</td>\n",
       "      <td>0</td>\n",
       "      <td>0</td>\n",
       "      <td>0</td>\n",
       "    </tr>\n",
       "    <tr>\n",
       "      <th>4</th>\n",
       "      <td>1</td>\n",
       "      <td>0</td>\n",
       "      <td>1</td>\n",
       "      <td>0</td>\n",
       "      <td>1</td>\n",
       "      <td>0</td>\n",
       "      <td>0</td>\n",
       "      <td>1</td>\n",
       "      <td>0</td>\n",
       "      <td>1</td>\n",
       "      <td>0</td>\n",
       "      <td>0</td>\n",
       "      <td>0</td>\n",
       "      <td>0</td>\n",
       "      <td>0</td>\n",
       "    </tr>\n",
       "  </tbody>\n",
       "</table>\n",
       "</div>"
      ],
      "text/plain": [
       "   Masculino  LEY 50 NOMINAL TERMINO FIJO  LEY 50 NOMINAL TERMINO INDEFIN  \\\n",
       "0          1                            0                               1   \n",
       "1          1                            0                               1   \n",
       "2          1                            1                               0   \n",
       "3          1                            1                               0   \n",
       "4          1                            0                               1   \n",
       "\n",
       "   LEY TRADICIONAL NOMINAL  Casado  Comercial  Lideres-Claves  Operativo  \\\n",
       "0                        0       0          0               0          0   \n",
       "1                        0       1          0               0          1   \n",
       "2                        0       0          0               0          1   \n",
       "3                        0       0          0               0          1   \n",
       "4                        0       1          0               0          1   \n",
       "\n",
       "   Soporte  NO SINDICALIZADO  B  C  D  E  F  \n",
       "0        0                 1  0  1  0  0  0  \n",
       "1        0                 1  0  0  0  0  0  \n",
       "2        0                 1  0  0  0  0  0  \n",
       "3        0                 1  0  1  0  0  0  \n",
       "4        0                 1  0  0  0  0  0  "
      ]
     },
     "execution_count": 16,
     "metadata": {},
     "output_type": "execute_result"
    }
   ],
   "source": [
    "df_dummies.head()"
   ]
  },
  {
   "cell_type": "code",
   "execution_count": 17,
   "metadata": {},
   "outputs": [],
   "source": [
    "df=df.drop(columns=['fecha', 'sexo', 'Tipo_nomina', 'casado_unionlibre', 'tipocargo', 'sindicalizado', \"id_ubicacion\"])"
   ]
  },
  {
   "cell_type": "code",
   "execution_count": 18,
   "metadata": {},
   "outputs": [
    {
     "data": {
      "text/html": [
       "<div>\n",
       "<style scoped>\n",
       "    .dataframe tbody tr th:only-of-type {\n",
       "        vertical-align: middle;\n",
       "    }\n",
       "\n",
       "    .dataframe tbody tr th {\n",
       "        vertical-align: top;\n",
       "    }\n",
       "\n",
       "    .dataframe thead th {\n",
       "        text-align: right;\n",
       "    }\n",
       "</style>\n",
       "<table border=\"1\" class=\"dataframe\">\n",
       "  <thead>\n",
       "    <tr style=\"text-align: right;\">\n",
       "      <th></th>\n",
       "      <th>ID</th>\n",
       "      <th>salario</th>\n",
       "      <th>edad</th>\n",
       "      <th>Antiguedad</th>\n",
       "      <th>retiro</th>\n",
       "    </tr>\n",
       "  </thead>\n",
       "  <tbody>\n",
       "    <tr>\n",
       "      <th>0</th>\n",
       "      <td>1</td>\n",
       "      <td>1777000</td>\n",
       "      <td>23</td>\n",
       "      <td>34</td>\n",
       "      <td>1</td>\n",
       "    </tr>\n",
       "    <tr>\n",
       "      <th>1</th>\n",
       "      <td>2</td>\n",
       "      <td>1103400</td>\n",
       "      <td>32</td>\n",
       "      <td>44</td>\n",
       "      <td>0</td>\n",
       "    </tr>\n",
       "    <tr>\n",
       "      <th>2</th>\n",
       "      <td>3</td>\n",
       "      <td>1103400</td>\n",
       "      <td>19</td>\n",
       "      <td>7</td>\n",
       "      <td>1</td>\n",
       "    </tr>\n",
       "    <tr>\n",
       "      <th>3</th>\n",
       "      <td>4</td>\n",
       "      <td>1140000</td>\n",
       "      <td>21</td>\n",
       "      <td>11</td>\n",
       "      <td>0</td>\n",
       "    </tr>\n",
       "    <tr>\n",
       "      <th>4</th>\n",
       "      <td>5</td>\n",
       "      <td>1103400</td>\n",
       "      <td>35</td>\n",
       "      <td>37</td>\n",
       "      <td>0</td>\n",
       "    </tr>\n",
       "    <tr>\n",
       "      <th>...</th>\n",
       "      <td>...</td>\n",
       "      <td>...</td>\n",
       "      <td>...</td>\n",
       "      <td>...</td>\n",
       "      <td>...</td>\n",
       "    </tr>\n",
       "    <tr>\n",
       "      <th>1427</th>\n",
       "      <td>1428</td>\n",
       "      <td>6346400</td>\n",
       "      <td>34</td>\n",
       "      <td>22</td>\n",
       "      <td>0</td>\n",
       "    </tr>\n",
       "    <tr>\n",
       "      <th>1428</th>\n",
       "      <td>1429</td>\n",
       "      <td>10800000</td>\n",
       "      <td>34</td>\n",
       "      <td>76</td>\n",
       "      <td>0</td>\n",
       "    </tr>\n",
       "    <tr>\n",
       "      <th>1429</th>\n",
       "      <td>1430</td>\n",
       "      <td>12500000</td>\n",
       "      <td>35</td>\n",
       "      <td>27</td>\n",
       "      <td>0</td>\n",
       "    </tr>\n",
       "    <tr>\n",
       "      <th>1430</th>\n",
       "      <td>1431</td>\n",
       "      <td>10887500</td>\n",
       "      <td>45</td>\n",
       "      <td>188</td>\n",
       "      <td>0</td>\n",
       "    </tr>\n",
       "    <tr>\n",
       "      <th>1431</th>\n",
       "      <td>1432</td>\n",
       "      <td>34000000</td>\n",
       "      <td>42</td>\n",
       "      <td>2</td>\n",
       "      <td>0</td>\n",
       "    </tr>\n",
       "  </tbody>\n",
       "</table>\n",
       "<p>1432 rows × 5 columns</p>\n",
       "</div>"
      ],
      "text/plain": [
       "        ID   salario  edad  Antiguedad  retiro\n",
       "0        1   1777000    23          34       1\n",
       "1        2   1103400    32          44       0\n",
       "2        3   1103400    19           7       1\n",
       "3        4   1140000    21          11       0\n",
       "4        5   1103400    35          37       0\n",
       "...    ...       ...   ...         ...     ...\n",
       "1427  1428   6346400    34          22       0\n",
       "1428  1429  10800000    34          76       0\n",
       "1429  1430  12500000    35          27       0\n",
       "1430  1431  10887500    45         188       0\n",
       "1431  1432  34000000    42           2       0\n",
       "\n",
       "[1432 rows x 5 columns]"
      ]
     },
     "execution_count": 18,
     "metadata": {},
     "output_type": "execute_result"
    }
   ],
   "source": [
    "df"
   ]
  },
  {
   "cell_type": "code",
   "execution_count": 20,
   "metadata": {},
   "outputs": [
    {
     "data": {
      "text/plain": [
       "Index(['ID', 'salario', 'edad', 'Antiguedad', 'retiro', 'Masculino',\n",
       "       'LEY 50 NOMINAL TERMINO FIJO', 'LEY 50 NOMINAL TERMINO INDEFIN',\n",
       "       'LEY TRADICIONAL NOMINAL', 'Casado', 'Comercial', 'Lideres-Claves',\n",
       "       'Operativo', 'Soporte', 'NO SINDICALIZADO', 'B', 'C', 'D', 'E', 'F',\n",
       "       'Masculino', 'LEY 50 NOMINAL TERMINO FIJO',\n",
       "       'LEY 50 NOMINAL TERMINO INDEFIN', 'LEY TRADICIONAL NOMINAL', 'Casado',\n",
       "       'Comercial', 'Lideres-Claves', 'Operativo', 'Soporte',\n",
       "       'NO SINDICALIZADO', 'B', 'C', 'D', 'E', 'F'],\n",
       "      dtype='object')"
      ]
     },
     "execution_count": 20,
     "metadata": {},
     "output_type": "execute_result"
    }
   ],
   "source": [
    "df=pd.concat([df,df_dummies], axis=1)\n",
    "df.columns"
   ]
  },
  {
   "cell_type": "code",
   "execution_count": 29,
   "metadata": {},
   "outputs": [
    {
     "data": {
      "text/plain": [
       "(473,)"
      ]
     },
     "execution_count": 29,
     "metadata": {},
     "output_type": "execute_result"
    }
   ],
   "source": [
    "# Select only the numeric features\n",
    "X=df.iloc[:,[1,2,3,5,6,7,8,9,10,11,12,13,14,15,16,17,18,19] ]\n",
    "# Convert bools to floats\n",
    "y=df.iloc[:,4]\n",
    "from sklearn.model_selection import train_test_split\n",
    "X_train, X_test, y_train, y_test = train_test_split(X, y, test_size=0.33, random_state=42)\n",
    "y.head()\n",
    "#a,b = 5, 10\n"
   ]
  },
  {
   "cell_type": "code",
   "execution_count": 75,
   "metadata": {},
   "outputs": [
    {
     "data": {
      "text/plain": [
       "(473,)"
      ]
     },
     "execution_count": 75,
     "metadata": {},
     "output_type": "execute_result"
    }
   ],
   "source": [
    "y_test.shape"
   ]
  },
  {
   "cell_type": "markdown",
   "metadata": {},
   "source": [
    "# Random Forest"
   ]
  },
  {
   "cell_type": "code",
   "execution_count": 50,
   "metadata": {},
   "outputs": [
    {
     "data": {
      "text/plain": [
       "array([0, 0, 0, 0, 1, 0, 0, 0, 0, 0, 0, 0, 0, 1, 0, 0, 0, 0, 0, 1, 0, 0,\n",
       "       1, 0, 0, 0, 0, 0, 0, 0, 0, 0, 0, 0, 0, 0, 1, 0, 1, 0, 0, 0, 1, 1,\n",
       "       0, 0, 0, 0, 0, 0, 1, 0, 0, 0, 0, 0, 0, 0, 0, 0, 0, 0, 0, 0, 1, 0,\n",
       "       0, 0, 0, 0, 0, 0, 0, 0, 0, 0, 1, 0, 0, 0, 0, 0, 0, 0, 0, 0, 0, 0,\n",
       "       1, 0, 0, 0, 0, 0, 1, 0, 0, 1, 0, 0, 0, 0, 0, 0, 0, 0, 0, 0, 0, 0,\n",
       "       0, 1, 0, 1, 0, 0, 0, 0, 0, 0, 0, 0, 1, 0, 0, 0, 0, 0, 0, 0, 0, 0,\n",
       "       1, 0, 0, 1, 0, 0, 0, 0, 0, 0, 0, 0, 0, 0, 0, 0, 0, 0, 0, 0, 0, 0,\n",
       "       0, 0, 1, 1, 0, 0, 0, 0, 0, 0, 0, 0, 0, 0, 0, 0, 0, 0, 0, 0, 0, 0,\n",
       "       0, 0, 0, 0, 0, 0, 0, 0, 0, 0, 0, 0, 0, 0, 0, 0, 0, 0, 1, 0, 0, 0,\n",
       "       0, 1, 0, 1, 0, 0, 0, 0, 0, 0, 0, 0, 0, 0, 0, 1, 0, 0, 0, 0, 0, 1,\n",
       "       0, 0, 1, 0, 0, 1, 0, 0, 0, 0, 0, 0, 0, 0, 0, 0, 0, 1, 1, 0, 0, 0,\n",
       "       0, 0, 1, 0, 0, 0, 0, 1, 0, 0, 0, 0, 0, 0, 0, 0, 0, 0, 0, 0, 0, 0,\n",
       "       0, 0, 0, 1, 0, 0, 0, 0, 0, 0, 1, 0, 0, 0, 1, 0, 0, 0, 0, 0, 0, 0,\n",
       "       0, 0, 0, 0, 1, 0, 0, 0, 0, 1, 0, 0, 0, 0, 0, 0, 0, 0, 0, 0, 0, 1,\n",
       "       1, 0, 0, 0, 0, 0, 0, 0, 0, 0, 0, 0, 0, 0, 0, 0, 1, 1, 0, 0, 1, 0,\n",
       "       0, 0, 0, 0, 0, 0, 0, 0, 1, 0, 0, 0, 0, 0, 1, 1, 0, 0, 0, 0, 0, 0,\n",
       "       0, 0, 1, 0, 1, 0, 0, 0, 0, 0, 0, 0, 0, 0, 0, 0, 0, 0, 0, 0, 0, 0,\n",
       "       0, 0, 0, 0, 0, 0, 0, 0, 1, 0, 0, 0, 0, 0, 0, 0, 0, 1, 0, 0, 0, 0,\n",
       "       0, 0, 0, 1, 0, 0, 0, 0, 0, 0, 0, 0, 0, 0, 1, 0, 0, 0, 0, 0, 1, 0,\n",
       "       0, 0, 0, 0, 0, 0, 0, 0, 0, 0, 0, 1, 0, 0, 0, 0, 0, 0, 0, 0, 0, 0,\n",
       "       0, 0, 0, 0, 0, 0, 0, 0, 0, 0, 0, 0, 0, 0, 0, 1, 1, 1, 0, 0, 0, 0,\n",
       "       0, 0, 0, 0, 0, 0, 0, 0, 1, 0, 0], dtype=int64)"
      ]
     },
     "execution_count": 50,
     "metadata": {},
     "output_type": "execute_result"
    }
   ],
   "source": [
    "model_rf = RandomForestClassifier(n_estimators = 100, min_samples_leaf = 2,\n",
    "                                  max_features = 4, random_state = 12345)\n",
    "model_rf.fit(X_train, y_train)\n",
    "rfc_pred = model_rf.predict(X_test)\n",
    "rfc_pred"
   ]
  },
  {
   "cell_type": "code",
   "execution_count": 40,
   "metadata": {},
   "outputs": [
    {
     "data": {
      "text/plain": [
       "(473,)"
      ]
     },
     "execution_count": 40,
     "metadata": {},
     "output_type": "execute_result"
    }
   ],
   "source": [
    "y_test.shape"
   ]
  },
  {
   "cell_type": "code",
   "execution_count": 51,
   "metadata": {},
   "outputs": [
    {
     "data": {
      "text/plain": [
       "0.7692998972954468"
      ]
     },
     "execution_count": 51,
     "metadata": {},
     "output_type": "execute_result"
    }
   ],
   "source": [
    "y_pred_rf = model_rf.predict(X_test)\n",
    "false_positive_rate_rf, true_positive_rate_rf, thresholds = roc_curve(y_test, y_pred_rf)\n",
    "roc_auc_rf = auc(false_positive_rate_rf, true_positive_rate_rf)\n",
    "roc_auc_rf"
   ]
  },
  {
   "cell_type": "code",
   "execution_count": 54,
   "metadata": {},
   "outputs": [
    {
     "name": "stdout",
     "output_type": "stream",
     "text": [
      "Confusion Matrix : \n",
      " [[375   6]\n",
      " [ 41  51]]\n",
      "Accuracy :  0.9006342494714588\n",
      "Sensitivity :  0.984251968503937\n",
      "Specificity :  0.5543478260869565\n"
     ]
    }
   ],
   "source": [
    "cm_rf = confusion_matrix(y_test,y_pred_rf)\n",
    "print('Confusion Matrix : \\n', cm_rf)\n",
    "\n",
    "total1=sum(sum(cm_rf))\n",
    "#####from confusion matrix calculate accuracy\n",
    "accuracy1=(cm_rf[0,0]+cm_rf[1,1])/total1\n",
    "print ('Accuracy : ', accuracy1)\n",
    "\n",
    "sensitivity1 = cm_rf[0,0]/(cm_rf[0,0]+cm_rf[0,1])\n",
    "print('Sensitivity : ', sensitivity1 )\n",
    "\n",
    "specificity1 = cm_rf[1,1]/(cm_rf[1,0]+cm_rf[1,1])\n",
    "print('Specificity : ', specificity1)\n"
   ]
  },
  {
   "cell_type": "code",
   "execution_count": 58,
   "metadata": {},
   "outputs": [
    {
     "data": {
      "text/plain": [
       "0.9006342494714588"
      ]
     },
     "execution_count": 58,
     "metadata": {},
     "output_type": "execute_result"
    }
   ],
   "source": [
    "(375+51)/473 # accuracy"
   ]
  },
  {
   "cell_type": "code",
   "execution_count": 55,
   "metadata": {},
   "outputs": [
    {
     "data": {
      "text/plain": [
       "0.5543478260869565"
      ]
     },
     "execution_count": 55,
     "metadata": {},
     "output_type": "execute_result"
    }
   ],
   "source": [
    "51 / 92 # dado que se retira: (capacidad del modelo para predecir correctamente)"
   ]
  },
  {
   "cell_type": "code",
   "execution_count": 59,
   "metadata": {},
   "outputs": [
    {
     "data": {
      "text/plain": [
       "array([[6.66154587e-01, 3.33845413e-01],\n",
       "       [9.50152015e-01, 4.98479853e-02],\n",
       "       [9.41709073e-01, 5.82909270e-02],\n",
       "       [9.38508307e-01, 6.14916933e-02],\n",
       "       [2.56682249e-01, 7.43317751e-01],\n",
       "       [7.10821068e-01, 2.89178932e-01],\n",
       "       [9.88186083e-01, 1.18139174e-02],\n",
       "       [9.59980678e-01, 4.00193217e-02],\n",
       "       [7.74047255e-01, 2.25952745e-01],\n",
       "       [9.89589929e-01, 1.04100713e-02],\n",
       "       [9.90927648e-01, 9.07235196e-03],\n",
       "       [9.81835578e-01, 1.81644218e-02],\n",
       "       [9.91085027e-01, 8.91497322e-03],\n",
       "       [5.60685426e-02, 9.43931457e-01],\n",
       "       [9.96150398e-01, 3.84960229e-03],\n",
       "       [8.53146702e-01, 1.46853298e-01],\n",
       "       [9.75686684e-01, 2.43133164e-02],\n",
       "       [7.48984947e-01, 2.51015053e-01],\n",
       "       [7.44334881e-01, 2.55665119e-01],\n",
       "       [1.43040959e-01, 8.56959041e-01],\n",
       "       [8.99948312e-01, 1.00051688e-01],\n",
       "       [9.82354592e-01, 1.76454084e-02],\n",
       "       [1.49958874e-01, 8.50041126e-01],\n",
       "       [9.41081523e-01, 5.89184771e-02],\n",
       "       [7.28596369e-01, 2.71403631e-01],\n",
       "       [9.61468277e-01, 3.85317234e-02],\n",
       "       [7.55305775e-01, 2.44694225e-01],\n",
       "       [9.44097012e-01, 5.59029884e-02],\n",
       "       [9.46773896e-01, 5.32261035e-02],\n",
       "       [9.64645085e-01, 3.53549154e-02],\n",
       "       [7.88542744e-01, 2.11457256e-01],\n",
       "       [9.38376426e-01, 6.16235744e-02],\n",
       "       [9.43779769e-01, 5.62202305e-02],\n",
       "       [9.69163866e-01, 3.08361345e-02],\n",
       "       [8.07382086e-01, 1.92617914e-01],\n",
       "       [9.41424994e-01, 5.85750055e-02],\n",
       "       [1.25948733e-01, 8.74051267e-01],\n",
       "       [8.63757275e-01, 1.36242725e-01],\n",
       "       [8.30831502e-02, 9.16916850e-01],\n",
       "       [9.92506595e-01, 7.49340460e-03],\n",
       "       [9.73434298e-01, 2.65657021e-02],\n",
       "       [8.61948259e-01, 1.38051741e-01],\n",
       "       [5.76780664e-02, 9.42321934e-01],\n",
       "       [1.47574315e-02, 9.85242569e-01],\n",
       "       [9.25138678e-01, 7.48613218e-02],\n",
       "       [9.46769777e-01, 5.32302226e-02],\n",
       "       [8.74047255e-01, 1.25952745e-01],\n",
       "       [9.53289844e-01, 4.67101563e-02],\n",
       "       [9.98928907e-01, 1.07109325e-03],\n",
       "       [9.72162567e-01, 2.78374332e-02],\n",
       "       [1.74470064e-01, 8.25529936e-01],\n",
       "       [9.97196537e-01, 2.80346267e-03],\n",
       "       [9.98500855e-01, 1.49914527e-03],\n",
       "       [9.29200658e-01, 7.07993415e-02],\n",
       "       [9.88187666e-01, 1.18123339e-02],\n",
       "       [9.37127145e-01, 6.28728547e-02],\n",
       "       [9.15045122e-01, 8.49548783e-02],\n",
       "       [9.97777586e-01, 2.22241415e-03],\n",
       "       [9.98928907e-01, 1.07109325e-03],\n",
       "       [9.98474361e-01, 1.52563870e-03],\n",
       "       [8.09523213e-01, 1.90476787e-01],\n",
       "       [9.19076965e-01, 8.09230349e-02],\n",
       "       [9.79216531e-01, 2.07834694e-02],\n",
       "       [9.94173262e-01, 5.82673793e-03],\n",
       "       [4.37121212e-02, 9.56287879e-01],\n",
       "       [9.97309750e-01, 2.69025041e-03],\n",
       "       [9.54601935e-01, 4.53980648e-02],\n",
       "       [9.99019416e-01, 9.80584083e-04],\n",
       "       [9.96348177e-01, 3.65182341e-03],\n",
       "       [9.87661813e-01, 1.23381869e-02],\n",
       "       [9.07117341e-01, 9.28826593e-02],\n",
       "       [9.74567796e-01, 2.54322044e-02],\n",
       "       [9.78336906e-01, 2.16630944e-02],\n",
       "       [9.77397196e-01, 2.26028038e-02],\n",
       "       [9.56626092e-01, 4.33739077e-02],\n",
       "       [9.90947305e-01, 9.05269498e-03],\n",
       "       [4.54067560e-01, 5.45932440e-01],\n",
       "       [9.95343218e-01, 4.65678245e-03],\n",
       "       [7.54149867e-01, 2.45850133e-01],\n",
       "       [9.98928907e-01, 1.07109325e-03],\n",
       "       [8.94714505e-01, 1.05285495e-01],\n",
       "       [9.92067035e-01, 7.93296504e-03],\n",
       "       [8.79269000e-01, 1.20731000e-01],\n",
       "       [9.95916683e-01, 4.08331688e-03],\n",
       "       [9.99059626e-01, 9.40374293e-04],\n",
       "       [9.90583350e-01, 9.41665021e-03],\n",
       "       [9.66495719e-01, 3.35042806e-02],\n",
       "       [8.21189429e-01, 1.78810571e-01],\n",
       "       [8.57456396e-02, 9.14254360e-01],\n",
       "       [8.54617636e-01, 1.45382364e-01],\n",
       "       [9.08897059e-01, 9.11029412e-02],\n",
       "       [9.98551551e-01, 1.44844912e-03],\n",
       "       [9.34013113e-01, 6.59868874e-02],\n",
       "       [9.97613972e-01, 2.38602831e-03],\n",
       "       [9.49750892e-02, 9.05024911e-01],\n",
       "       [8.99973864e-01, 1.00026136e-01],\n",
       "       [9.62178588e-01, 3.78214121e-02],\n",
       "       [3.78082988e-01, 6.21917012e-01],\n",
       "       [8.00361548e-01, 1.99638452e-01],\n",
       "       [9.56051610e-01, 4.39483901e-02],\n",
       "       [7.90780985e-01, 2.09219015e-01],\n",
       "       [9.35640382e-01, 6.43596184e-02],\n",
       "       [9.62142631e-01, 3.78573687e-02],\n",
       "       [8.98417904e-01, 1.01582096e-01],\n",
       "       [8.34903828e-01, 1.65096172e-01],\n",
       "       [8.12308964e-01, 1.87691036e-01],\n",
       "       [8.65421534e-01, 1.34578466e-01],\n",
       "       [6.14107049e-01, 3.85892951e-01],\n",
       "       [7.18144324e-01, 2.81855676e-01],\n",
       "       [9.87233702e-01, 1.27662984e-02],\n",
       "       [9.70466044e-01, 2.95339560e-02],\n",
       "       [3.32285714e-02, 9.66771429e-01],\n",
       "       [9.68158730e-01, 3.18412698e-02],\n",
       "       [7.45212653e-02, 9.25478735e-01],\n",
       "       [6.30876886e-01, 3.69123114e-01],\n",
       "       [9.26404084e-01, 7.35959158e-02],\n",
       "       [8.69870580e-01, 1.30129420e-01],\n",
       "       [8.80437686e-01, 1.19562314e-01],\n",
       "       [8.82737975e-01, 1.17262025e-01],\n",
       "       [7.21909091e-01, 2.78090909e-01],\n",
       "       [8.53211918e-01, 1.46788082e-01],\n",
       "       [8.89803697e-01, 1.10196303e-01],\n",
       "       [1.14432249e-01, 8.85567751e-01],\n",
       "       [9.97224361e-01, 2.77563870e-03],\n",
       "       [9.50727984e-01, 4.92720158e-02],\n",
       "       [9.94492412e-01, 5.50758787e-03],\n",
       "       [9.54340636e-01, 4.56593642e-02],\n",
       "       [5.40181622e-01, 4.59818378e-01],\n",
       "       [5.65598925e-01, 4.34401075e-01],\n",
       "       [9.56345255e-01, 4.36547454e-02],\n",
       "       [9.25852176e-01, 7.41478243e-02],\n",
       "       [9.92910823e-01, 7.08917695e-03],\n",
       "       [1.88791116e-01, 8.11208884e-01],\n",
       "       [9.95959596e-01, 4.04040404e-03],\n",
       "       [9.10085085e-01, 8.99149154e-02],\n",
       "       [4.95968400e-01, 5.04031600e-01],\n",
       "       [9.12167891e-01, 8.78321087e-02],\n",
       "       [8.21766994e-01, 1.78233006e-01],\n",
       "       [9.75351557e-01, 2.46484431e-02],\n",
       "       [9.90726292e-01, 9.27370763e-03],\n",
       "       [9.46904244e-01, 5.30957557e-02],\n",
       "       [5.00699648e-01, 4.99300352e-01],\n",
       "       [9.88916683e-01, 1.10833169e-02],\n",
       "       [9.91914808e-01, 8.08519204e-03],\n",
       "       [9.50331973e-01, 4.96680274e-02],\n",
       "       [9.56051610e-01, 4.39483901e-02],\n",
       "       [8.77917236e-01, 1.22082764e-01],\n",
       "       [9.95000102e-01, 4.99989810e-03],\n",
       "       [7.05936776e-01, 2.94063224e-01],\n",
       "       [8.24154723e-01, 1.75845277e-01],\n",
       "       [9.99019416e-01, 9.80584083e-04],\n",
       "       [9.14312373e-01, 8.56876274e-02],\n",
       "       [8.17961845e-01, 1.82038155e-01],\n",
       "       [8.05862232e-01, 1.94137768e-01],\n",
       "       [8.29324439e-01, 1.70675561e-01],\n",
       "       [9.64489853e-01, 3.55101465e-02],\n",
       "       [1.95005891e-01, 8.04994109e-01],\n",
       "       [4.28404595e-02, 9.57159540e-01],\n",
       "       [8.32701988e-01, 1.67298012e-01],\n",
       "       [9.98718717e-01, 1.28128338e-03],\n",
       "       [9.97931432e-01, 2.06856799e-03],\n",
       "       [9.71461622e-01, 2.85383782e-02],\n",
       "       [9.87213265e-01, 1.27867354e-02],\n",
       "       [9.98775061e-01, 1.22493940e-03],\n",
       "       [9.18331461e-01, 8.16685387e-02],\n",
       "       [9.36282449e-01, 6.37175506e-02],\n",
       "       [9.25837669e-01, 7.41623314e-02],\n",
       "       [7.87101883e-01, 2.12898117e-01],\n",
       "       [9.93775061e-01, 6.22493940e-03],\n",
       "       [7.87852749e-01, 2.12147251e-01],\n",
       "       [9.92352749e-01, 7.64725075e-03],\n",
       "       [9.47665278e-01, 5.23347219e-02],\n",
       "       [6.47821604e-01, 3.52178396e-01],\n",
       "       [9.98928907e-01, 1.07109325e-03],\n",
       "       [9.87923262e-01, 1.20767379e-02],\n",
       "       [8.52781742e-01, 1.47218258e-01],\n",
       "       [9.89713297e-01, 1.02867033e-02],\n",
       "       [7.26623377e-01, 2.73376623e-01],\n",
       "       [9.42851459e-01, 5.71485415e-02],\n",
       "       [9.94869383e-01, 5.13061706e-03],\n",
       "       [9.98928907e-01, 1.07109325e-03],\n",
       "       [5.11848906e-01, 4.88151094e-01],\n",
       "       [9.86208871e-01, 1.37911289e-02],\n",
       "       [9.87458871e-01, 1.25411289e-02],\n",
       "       [9.99019416e-01, 9.80584083e-04],\n",
       "       [9.98474361e-01, 1.52563870e-03],\n",
       "       [9.98040018e-01, 1.95998214e-03],\n",
       "       [9.81452397e-01, 1.85476026e-02],\n",
       "       [9.56381054e-01, 4.36189457e-02],\n",
       "       [9.37709961e-01, 6.22900390e-02],\n",
       "       [8.74783486e-01, 1.25216514e-01],\n",
       "       [9.95726292e-01, 4.27370763e-03],\n",
       "       [9.64805199e-01, 3.51948009e-02],\n",
       "       [8.90009041e-01, 1.09990959e-01],\n",
       "       [1.76795021e-02, 9.82320498e-01],\n",
       "       [9.86516305e-01, 1.34836946e-02],\n",
       "       [9.90153654e-01, 9.84634577e-03],\n",
       "       [8.76522176e-01, 1.23477824e-01],\n",
       "       [8.41946431e-01, 1.58053569e-01],\n",
       "       [2.63983432e-01, 7.36016568e-01],\n",
       "       [8.79364530e-01, 1.20635470e-01],\n",
       "       [6.06677588e-02, 9.39332241e-01],\n",
       "       [9.95726292e-01, 4.27370763e-03],\n",
       "       [9.96673262e-01, 3.32673793e-03],\n",
       "       [8.91750241e-01, 1.08249759e-01],\n",
       "       [9.63028752e-01, 3.69712478e-02],\n",
       "       [9.55125035e-01, 4.48749653e-02],\n",
       "       [6.72967908e-01, 3.27032092e-01],\n",
       "       [9.96185400e-01, 3.81459974e-03],\n",
       "       [9.36975275e-01, 6.30247253e-02],\n",
       "       [9.85786845e-01, 1.42131550e-02],\n",
       "       [9.87453512e-01, 1.25464883e-02],\n",
       "       [9.14634921e-01, 8.53650794e-02],\n",
       "       [1.01833675e-01, 8.98166325e-01],\n",
       "       [9.70082994e-01, 2.99170055e-02],\n",
       "       [9.95910823e-01, 4.08917695e-03],\n",
       "       [7.74566528e-01, 2.25433472e-01],\n",
       "       [9.35885323e-01, 6.41146775e-02],\n",
       "       [9.99019416e-01, 9.80584083e-04],\n",
       "       [1.50919737e-01, 8.49080263e-01],\n",
       "       [9.41424994e-01, 5.85750055e-02],\n",
       "       [9.39695745e-01, 6.03042552e-02],\n",
       "       [7.27083333e-02, 9.27291667e-01],\n",
       "       [9.90709210e-01, 9.29079022e-03],\n",
       "       [9.19572762e-01, 8.04272379e-02],\n",
       "       [1.36344014e-01, 8.63655986e-01],\n",
       "       [8.90827488e-01, 1.09172512e-01],\n",
       "       [8.76902026e-01, 1.23097974e-01],\n",
       "       [9.68626092e-01, 3.13739077e-02],\n",
       "       [9.98775061e-01, 1.22493940e-03],\n",
       "       [9.98928907e-01, 1.07109325e-03],\n",
       "       [9.54317621e-01, 4.56823785e-02],\n",
       "       [9.14059935e-01, 8.59400649e-02],\n",
       "       [9.89103149e-01, 1.08968508e-02],\n",
       "       [9.00134144e-01, 9.98658555e-02],\n",
       "       [9.14778580e-01, 8.52214204e-02],\n",
       "       [6.62878392e-01, 3.37121608e-01],\n",
       "       [3.16795021e-02, 9.68320498e-01],\n",
       "       [1.17987805e-01, 8.82012195e-01],\n",
       "       [9.82744691e-01, 1.72553094e-02],\n",
       "       [5.66297295e-01, 4.33702705e-01],\n",
       "       [9.58458368e-01, 4.15416320e-02],\n",
       "       [9.74267105e-01, 2.57328946e-02],\n",
       "       [9.41250290e-01, 5.87497097e-02],\n",
       "       [1.02392567e-01, 8.97607433e-01],\n",
       "       [9.08943857e-01, 9.10561435e-02],\n",
       "       [9.68735291e-01, 3.12647092e-02],\n",
       "       [9.55758848e-01, 4.42411524e-02],\n",
       "       [9.42709596e-01, 5.72904040e-02],\n",
       "       [9.34581597e-02, 9.06541840e-01],\n",
       "       [8.34397176e-01, 1.65602824e-01],\n",
       "       [9.91921331e-01, 8.07866900e-03],\n",
       "       [6.66757839e-01, 3.33242161e-01],\n",
       "       [9.92910823e-01, 7.08917695e-03],\n",
       "       [9.73702991e-01, 2.62970085e-02],\n",
       "       [9.98888697e-01, 1.11130304e-03],\n",
       "       [7.79175961e-01, 2.20824039e-01],\n",
       "       [9.64316130e-01, 3.56838695e-02],\n",
       "       [9.87841433e-01, 1.21585666e-02],\n",
       "       [8.50145641e-01, 1.49854359e-01],\n",
       "       [8.31548350e-01, 1.68451650e-01],\n",
       "       [9.66495719e-01, 3.35042806e-02],\n",
       "       [8.63502177e-01, 1.36497823e-01],\n",
       "       [9.98888697e-01, 1.11130304e-03],\n",
       "       [9.06283025e-01, 9.37169749e-02],\n",
       "       [9.90202716e-01, 9.79728372e-03],\n",
       "       [8.07052109e-01, 1.92947891e-01],\n",
       "       [3.11106797e-01, 6.88893203e-01],\n",
       "       [9.96185400e-01, 3.81459974e-03],\n",
       "       [9.65440764e-01, 3.45592361e-02],\n",
       "       [9.03261784e-01, 9.67382163e-02],\n",
       "       [9.48613363e-01, 5.13866367e-02],\n",
       "       [9.80254664e-01, 1.97453357e-02],\n",
       "       [9.90202716e-01, 9.79728372e-03],\n",
       "       [2.54131023e-01, 7.45868977e-01],\n",
       "       [9.97003572e-01, 2.99642769e-03],\n",
       "       [8.16707177e-01, 1.83292823e-01],\n",
       "       [8.00934507e-01, 1.99065493e-01],\n",
       "       [2.65777778e-02, 9.73422222e-01],\n",
       "       [9.23618098e-01, 7.63819019e-02],\n",
       "       [8.17210245e-01, 1.82789755e-01],\n",
       "       [9.98928907e-01, 1.07109325e-03],\n",
       "       [9.93928907e-01, 6.07109325e-03],\n",
       "       [9.05801121e-01, 9.41988786e-02],\n",
       "       [9.59700343e-01, 4.02996570e-02],\n",
       "       [9.06175837e-01, 9.38241634e-02],\n",
       "       [6.17935726e-01, 3.82064274e-01],\n",
       "       [9.60121986e-01, 3.98780139e-02],\n",
       "       [7.02722954e-01, 2.97277046e-01],\n",
       "       [8.19098127e-01, 1.80901873e-01],\n",
       "       [9.01815371e-02, 9.09818463e-01],\n",
       "       [9.84444955e-01, 1.55550454e-02],\n",
       "       [9.78128084e-01, 2.18719163e-02],\n",
       "       [9.98775061e-01, 1.22493940e-03],\n",
       "       [9.61239523e-01, 3.87604766e-02],\n",
       "       [6.30505051e-03, 9.93694949e-01],\n",
       "       [9.94059626e-01, 5.94037429e-03],\n",
       "       [9.87052050e-01, 1.29479501e-02],\n",
       "       [9.42184890e-01, 5.78151098e-02],\n",
       "       [9.30559524e-01, 6.94404762e-02],\n",
       "       [9.99019416e-01, 9.80584083e-04],\n",
       "       [9.51040421e-01, 4.89595787e-02],\n",
       "       [6.10277260e-01, 3.89722740e-01],\n",
       "       [9.75385531e-01, 2.46144689e-02],\n",
       "       [8.34388151e-01, 1.65611849e-01],\n",
       "       [9.95238095e-01, 4.76190476e-03],\n",
       "       [9.64009170e-01, 3.59908301e-02],\n",
       "       [2.34360074e-01, 7.65639926e-01],\n",
       "       [1.58383230e-01, 8.41616770e-01],\n",
       "       [9.73706878e-01, 2.62931217e-02],\n",
       "       [9.11864325e-01, 8.81356752e-02],\n",
       "       [6.20363149e-01, 3.79636851e-01],\n",
       "       [8.59061268e-01, 1.40938732e-01],\n",
       "       [9.86571307e-01, 1.34286929e-02],\n",
       "       [7.80853353e-01, 2.19146647e-01],\n",
       "       [9.98373351e-01, 1.62664880e-03],\n",
       "       [9.44870601e-01, 5.51293993e-02],\n",
       "       [9.15509145e-01, 8.44908555e-02],\n",
       "       [9.97277837e-01, 2.72216277e-03],\n",
       "       [9.50460479e-01, 4.95395214e-02],\n",
       "       [7.94171179e-01, 2.05828821e-01],\n",
       "       [9.87633580e-01, 1.23664205e-02],\n",
       "       [8.80843624e-01, 1.19156376e-01],\n",
       "       [9.97196537e-01, 2.80346267e-03],\n",
       "       [1.96729172e-01, 8.03270828e-01],\n",
       "       [1.99307443e-01, 8.00692557e-01],\n",
       "       [9.95202716e-01, 4.79728372e-03],\n",
       "       [6.09875944e-01, 3.90124056e-01],\n",
       "       [1.62071429e-01, 8.37928571e-01],\n",
       "       [9.41178166e-01, 5.88218343e-02],\n",
       "       [9.60927359e-01, 3.90726412e-02],\n",
       "       [9.55822022e-01, 4.41779781e-02],\n",
       "       [8.55169354e-01, 1.44830646e-01],\n",
       "       [8.81587862e-01, 1.18412138e-01],\n",
       "       [9.92222030e-01, 7.77796970e-03],\n",
       "       [9.93486988e-01, 6.51301244e-03],\n",
       "       [8.60230374e-01, 1.39769626e-01],\n",
       "       [9.69321368e-01, 3.06786324e-02],\n",
       "       [1.01275794e-01, 8.98724206e-01],\n",
       "       [9.55974747e-01, 4.40252525e-02],\n",
       "       [8.83193164e-01, 1.16806836e-01],\n",
       "       [9.89608394e-01, 1.03916061e-02],\n",
       "       [9.72761783e-01, 2.72382167e-02],\n",
       "       [8.89503083e-01, 1.10496917e-01],\n",
       "       [5.67934641e-02, 9.43206536e-01],\n",
       "       [7.65512969e-02, 9.23448703e-01],\n",
       "       [9.81835578e-01, 1.81644218e-02],\n",
       "       [9.31290340e-01, 6.87096598e-02],\n",
       "       [8.33007115e-01, 1.66992885e-01],\n",
       "       [9.27990134e-01, 7.20098661e-02],\n",
       "       [7.58868687e-01, 2.41131313e-01],\n",
       "       [7.78620641e-01, 2.21379359e-01],\n",
       "       [9.96828381e-01, 3.17161913e-03],\n",
       "       [9.86352732e-01, 1.36472680e-02],\n",
       "       [1.91581252e-01, 8.08418748e-01],\n",
       "       [9.99173262e-01, 8.26737929e-04],\n",
       "       [7.60447330e-02, 9.23955267e-01],\n",
       "       [8.98672866e-01, 1.01327134e-01],\n",
       "       [9.39425331e-01, 6.05746691e-02],\n",
       "       [9.12648148e-01, 8.73518519e-02],\n",
       "       [8.20876911e-01, 1.79123089e-01],\n",
       "       [6.95985848e-01, 3.04014152e-01],\n",
       "       [9.46181097e-01, 5.38189033e-02],\n",
       "       [6.84316472e-01, 3.15683528e-01],\n",
       "       [9.98928907e-01, 1.07109325e-03],\n",
       "       [9.98928907e-01, 1.07109325e-03],\n",
       "       [5.38356797e-01, 4.61643203e-01],\n",
       "       [9.66341943e-01, 3.36580569e-02],\n",
       "       [8.81532226e-01, 1.18467774e-01],\n",
       "       [9.88564623e-01, 1.14353772e-02],\n",
       "       [9.53536002e-01, 4.64639980e-02],\n",
       "       [5.37010418e-01, 4.62989582e-01],\n",
       "       [9.28181488e-01, 7.18185120e-02],\n",
       "       [9.98888697e-01, 1.11130304e-03],\n",
       "       [8.61343949e-01, 1.38656051e-01],\n",
       "       [9.75074585e-01, 2.49254154e-02],\n",
       "       [8.49918607e-01, 1.50081393e-01],\n",
       "       [9.70616514e-01, 2.93834859e-02],\n",
       "       [9.94164201e-01, 5.83579913e-03],\n",
       "       [9.41271165e-01, 5.87288348e-02],\n",
       "       [7.33367386e-01, 2.66632614e-01],\n",
       "       [9.81990028e-01, 1.80099715e-02],\n",
       "       [1.07098916e-01, 8.92901084e-01],\n",
       "       [9.95709210e-01, 4.29079022e-03],\n",
       "       [9.79986988e-01, 2.00130124e-02],\n",
       "       [9.58420201e-01, 4.15797989e-02],\n",
       "       [9.35638330e-01, 6.43616697e-02],\n",
       "       [9.59980678e-01, 4.00193217e-02],\n",
       "       [9.93587998e-01, 6.41200234e-03],\n",
       "       [7.44334881e-01, 2.55665119e-01],\n",
       "       [7.87048119e-01, 2.12951881e-01],\n",
       "       [2.10735260e-01, 7.89264740e-01],\n",
       "       [9.97480678e-01, 2.51932166e-03],\n",
       "       [9.27131172e-01, 7.28688283e-02],\n",
       "       [7.49891101e-01, 2.50108899e-01],\n",
       "       [6.72265117e-01, 3.27734883e-01],\n",
       "       [9.99173262e-01, 8.26737929e-04],\n",
       "       [8.48921629e-01, 1.51078371e-01],\n",
       "       [7.44649582e-01, 2.55350418e-01],\n",
       "       [2.54814954e-01, 7.45185046e-01],\n",
       "       [9.43842413e-01, 5.61575872e-02],\n",
       "       [5.25589540e-01, 4.74410460e-01],\n",
       "       [9.21415078e-01, 7.85849220e-02],\n",
       "       [8.88841987e-01, 1.11158013e-01],\n",
       "       [9.91256595e-01, 8.74340460e-03],\n",
       "       [9.77898059e-01, 2.21019412e-02],\n",
       "       [9.42811748e-01, 5.71882518e-02],\n",
       "       [9.04008098e-01, 9.59919023e-02],\n",
       "       [9.19713208e-01, 8.02867922e-02],\n",
       "       [9.74314420e-01, 2.56855800e-02],\n",
       "       [1.42351017e-01, 8.57648983e-01],\n",
       "       [8.86076522e-01, 1.13923478e-01],\n",
       "       [8.10531241e-01, 1.89468759e-01],\n",
       "       [9.88564623e-01, 1.14353772e-02],\n",
       "       [8.67164818e-01, 1.32835182e-01],\n",
       "       [9.39199162e-01, 6.08008378e-02],\n",
       "       [8.10353287e-02, 9.18964671e-01],\n",
       "       [9.92613972e-01, 7.38602831e-03],\n",
       "       [9.09482496e-01, 9.05175037e-02],\n",
       "       [9.74718218e-01, 2.52817825e-02],\n",
       "       [8.17267742e-01, 1.82732258e-01],\n",
       "       [9.19427889e-01, 8.05721109e-02],\n",
       "       [8.90780690e-01, 1.09219310e-01],\n",
       "       [6.31373018e-01, 3.68626982e-01],\n",
       "       [8.42495294e-01, 1.57504706e-01],\n",
       "       [7.89548327e-01, 2.10451673e-01],\n",
       "       [9.99019416e-01, 9.80584083e-04],\n",
       "       [9.04372636e-01, 9.56273642e-02],\n",
       "       [8.32014028e-01, 1.67985972e-01],\n",
       "       [1.25396535e-01, 8.74603465e-01],\n",
       "       [8.39946250e-01, 1.60053750e-01],\n",
       "       [9.13251408e-01, 8.67485925e-02],\n",
       "       [9.95916683e-01, 4.08331688e-03],\n",
       "       [6.85375439e-01, 3.14624561e-01],\n",
       "       [9.64280030e-01, 3.57199701e-02],\n",
       "       [9.21807289e-01, 7.81927105e-02],\n",
       "       [7.68971757e-01, 2.31028243e-01],\n",
       "       [9.57589013e-01, 4.24109870e-02],\n",
       "       [9.99019416e-01, 9.80584083e-04],\n",
       "       [9.52564623e-01, 4.74353772e-02],\n",
       "       [9.94019416e-01, 5.98058408e-03],\n",
       "       [9.98373351e-01, 1.62664880e-03],\n",
       "       [9.89854592e-01, 1.01454084e-02],\n",
       "       [9.98928907e-01, 1.07109325e-03],\n",
       "       [8.85621908e-01, 1.14378092e-01],\n",
       "       [9.33808242e-01, 6.61917580e-02],\n",
       "       [5.99390414e-01, 4.00609586e-01],\n",
       "       [9.99019416e-01, 9.80584083e-04],\n",
       "       [9.56355150e-01, 4.36448502e-02],\n",
       "       [7.72332755e-01, 2.27667245e-01],\n",
       "       [9.89132939e-01, 1.08670605e-02],\n",
       "       [9.47806166e-01, 5.21938339e-02],\n",
       "       [9.76067035e-01, 2.39329650e-02],\n",
       "       [9.98928907e-01, 1.07109325e-03],\n",
       "       [9.82337463e-01, 1.76625373e-02],\n",
       "       [1.52844014e-01, 8.47155986e-01],\n",
       "       [6.78471061e-02, 9.32152894e-01],\n",
       "       [4.56680717e-02, 9.54331928e-01],\n",
       "       [9.90839929e-01, 9.16007126e-03],\n",
       "       [8.46610769e-01, 1.53389231e-01],\n",
       "       [8.21729173e-01, 1.78270827e-01],\n",
       "       [9.50748811e-01, 4.92511895e-02],\n",
       "       [9.87392959e-01, 1.26070410e-02],\n",
       "       [9.41110226e-01, 5.88897742e-02],\n",
       "       [8.39420437e-01, 1.60579563e-01],\n",
       "       [9.93848177e-01, 6.15182341e-03],\n",
       "       [9.47532496e-01, 5.24675045e-02],\n",
       "       [9.33816130e-01, 6.61838695e-02],\n",
       "       [9.51378142e-01, 4.86218577e-02],\n",
       "       [9.92744691e-01, 7.25530936e-03],\n",
       "       [4.28366394e-01, 5.71633606e-01],\n",
       "       [9.59509839e-01, 4.04901613e-02],\n",
       "       [8.88542624e-01, 1.11457376e-01]])"
      ]
     },
     "execution_count": 59,
     "metadata": {},
     "output_type": "execute_result"
    }
   ],
   "source": [
    "model_rf.predict_proba(X_test)"
   ]
  },
  {
   "cell_type": "code",
   "execution_count": 60,
   "metadata": {},
   "outputs": [],
   "source": [
    "y_pred_rf2 = (model_rf.predict_proba(X_test)[:,1] >= 0.30).astype(bool) # set threshold as 0.3"
   ]
  },
  {
   "cell_type": "code",
   "execution_count": 61,
   "metadata": {},
   "outputs": [
    {
     "data": {
      "text/plain": [
       "0.8039626840123245"
      ]
     },
     "execution_count": 61,
     "metadata": {},
     "output_type": "execute_result"
    }
   ],
   "source": [
    "false_positive_rate_rf, true_positive_rate_rf, thresholds = roc_curve(y_test, y_pred_rf2)\n",
    "roc_auc_rf = auc(false_positive_rate_rf, true_positive_rate_rf)\n",
    "roc_auc_rf"
   ]
  },
  {
   "cell_type": "code",
   "execution_count": 65,
   "metadata": {},
   "outputs": [
    {
     "name": "stdout",
     "output_type": "stream",
     "text": [
      "Confusion Matrix : \n",
      " [[360  21]\n",
      " [ 31  61]]\n",
      "Accuracy :  0.8900634249471459\n",
      "Sensitivity :  0.9448818897637795\n",
      "Specificity :  0.6630434782608695\n"
     ]
    }
   ],
   "source": [
    "cm_rf = confusion_matrix(y_test,y_pred_rf2)\n",
    "print('Confusion Matrix : \\n', cm_rf)\n",
    "\n",
    "total1=sum(sum(cm_rf))\n",
    "#####from confusion matrix calculate accuracy\n",
    "accuracy1=(cm_rf[0,0]+cm_rf[1,1])/total1\n",
    "print ('Accuracy : ', accuracy1)\n",
    "\n",
    "sensitivity1 = cm_rf[0,0]/(cm_rf[0,0]+cm_rf[0,1])\n",
    "print('Sensitivity : ', sensitivity1 )\n",
    "\n",
    "specificity1 = cm_rf[1,1]/(cm_rf[1,0]+cm_rf[1,1])\n",
    "print('Specificity : ', specificity1)"
   ]
  },
  {
   "cell_type": "code",
   "execution_count": 67,
   "metadata": {},
   "outputs": [
    {
     "name": "stdout",
     "output_type": "stream",
     "text": [
      "Fitting 3 folds for each of 288 candidates, totalling 864 fits\n"
     ]
    },
    {
     "name": "stderr",
     "output_type": "stream",
     "text": [
      "[Parallel(n_jobs=-1)]: Using backend LokyBackend with 4 concurrent workers.\n",
      "[Parallel(n_jobs=-1)]: Done  33 tasks      | elapsed:   11.8s\n",
      "[Parallel(n_jobs=-1)]: Done 154 tasks      | elapsed:   45.3s\n",
      "[Parallel(n_jobs=-1)]: Done 357 tasks      | elapsed:  1.8min\n",
      "[Parallel(n_jobs=-1)]: Done 640 tasks      | elapsed:  3.4min\n",
      "[Parallel(n_jobs=-1)]: Done 864 out of 864 | elapsed:  4.7min finished\n"
     ]
    },
    {
     "data": {
      "text/plain": [
       "array([0, 0, 0, 0, 1, 0, 0, 0, 0, 0, 0, 0, 0, 1, 0, 0, 0, 0, 0, 1, 0, 0,\n",
       "       1, 0, 0, 0, 0, 0, 0, 0, 0, 0, 0, 0, 0, 0, 1, 0, 1, 0, 0, 0, 1, 1,\n",
       "       0, 0, 0, 0, 0, 0, 1, 0, 0, 0, 0, 0, 0, 0, 0, 0, 0, 0, 0, 0, 1, 0,\n",
       "       0, 0, 0, 0, 0, 0, 0, 0, 0, 0, 0, 0, 0, 0, 0, 0, 0, 0, 0, 0, 0, 0,\n",
       "       1, 0, 0, 0, 0, 0, 1, 0, 0, 1, 0, 0, 0, 0, 0, 0, 0, 0, 0, 1, 0, 0,\n",
       "       0, 1, 0, 1, 0, 0, 0, 0, 0, 0, 0, 0, 1, 0, 0, 0, 0, 0, 0, 0, 0, 0,\n",
       "       1, 0, 0, 0, 0, 0, 0, 0, 0, 1, 0, 0, 0, 0, 0, 0, 0, 0, 0, 0, 0, 0,\n",
       "       0, 0, 1, 1, 0, 0, 0, 0, 0, 0, 0, 0, 0, 0, 0, 0, 0, 0, 0, 0, 0, 0,\n",
       "       0, 0, 0, 0, 0, 1, 0, 0, 0, 0, 0, 0, 0, 0, 0, 0, 0, 0, 1, 0, 0, 0,\n",
       "       0, 1, 0, 1, 0, 0, 0, 0, 0, 1, 0, 0, 0, 0, 0, 1, 0, 0, 0, 0, 0, 1,\n",
       "       0, 0, 1, 0, 0, 1, 0, 0, 0, 0, 0, 0, 0, 0, 0, 0, 0, 1, 1, 0, 0, 0,\n",
       "       0, 0, 1, 0, 0, 0, 0, 1, 0, 0, 0, 0, 0, 0, 0, 0, 0, 0, 0, 0, 0, 0,\n",
       "       0, 0, 0, 1, 0, 0, 0, 0, 0, 0, 1, 0, 0, 0, 1, 0, 0, 0, 0, 0, 0, 0,\n",
       "       0, 0, 0, 0, 1, 0, 0, 0, 0, 1, 0, 0, 0, 0, 0, 0, 0, 0, 0, 0, 0, 1,\n",
       "       1, 0, 0, 0, 0, 0, 0, 0, 0, 0, 0, 0, 0, 0, 0, 0, 1, 1, 0, 1, 1, 0,\n",
       "       0, 0, 0, 0, 0, 0, 0, 0, 1, 0, 0, 0, 0, 0, 1, 1, 0, 0, 0, 0, 0, 0,\n",
       "       0, 0, 1, 0, 1, 0, 0, 0, 0, 0, 0, 0, 0, 0, 1, 0, 0, 0, 0, 0, 0, 0,\n",
       "       0, 0, 0, 0, 0, 0, 0, 0, 1, 0, 0, 0, 0, 0, 0, 0, 0, 1, 0, 0, 1, 0,\n",
       "       0, 0, 0, 1, 0, 0, 0, 0, 0, 0, 0, 0, 0, 0, 1, 0, 0, 0, 0, 0, 1, 0,\n",
       "       0, 0, 0, 0, 0, 0, 0, 0, 0, 0, 0, 1, 0, 0, 0, 0, 0, 0, 0, 0, 0, 0,\n",
       "       0, 0, 0, 0, 0, 0, 0, 0, 0, 0, 0, 0, 0, 0, 0, 1, 1, 1, 0, 0, 0, 0,\n",
       "       0, 0, 0, 0, 0, 0, 0, 0, 0, 0, 0], dtype=int64)"
      ]
     },
     "execution_count": 67,
     "metadata": {},
     "output_type": "execute_result"
    }
   ],
   "source": [
    "param_grid = {\n",
    "    'bootstrap': [True],\n",
    "    'max_depth': [80, 90, 100, 110],\n",
    "    'max_features': [2, 3],\n",
    "    'min_samples_leaf': [3, 4, 5],\n",
    "    'min_samples_split': [8, 10, 12],\n",
    "    'n_estimators': [100, 200, 300, 1000] # n_estimators is the number of trees to be used in the fores\n",
    "}\n",
    "\n",
    "model_rf = RandomForestClassifier()\n",
    "grid_search = GridSearchCV(estimator = model_rf, param_grid = param_grid, \n",
    "                          cv = 3, n_jobs = -1, verbose = 2)\n",
    "grid_search.fit(X, y)\n",
    "rfc_pred = grid_search.predict(X_test)\n",
    "rfc_pred"
   ]
  },
  {
   "cell_type": "code",
   "execution_count": 72,
   "metadata": {},
   "outputs": [
    {
     "data": {
      "text/plain": [
       "{'bootstrap': True,\n",
       " 'max_depth': 100,\n",
       " 'max_features': 3,\n",
       " 'min_samples_leaf': 3,\n",
       " 'min_samples_split': 12,\n",
       " 'n_estimators': 100}"
      ]
     },
     "execution_count": 72,
     "metadata": {},
     "output_type": "execute_result"
    }
   ],
   "source": [
    "grid_search.best_params_"
   ]
  },
  {
   "cell_type": "code",
   "execution_count": 69,
   "metadata": {},
   "outputs": [
    {
     "name": "stdout",
     "output_type": "stream",
     "text": [
      "Confusion Matrix : \n",
      " [[378   3]\n",
      " [ 34  58]]\n",
      "Accuracy :  0.9217758985200846\n",
      "Sensitivity :  0.9921259842519685\n",
      "Specificity :  0.6304347826086957\n"
     ]
    }
   ],
   "source": [
    "cm_rf = confusion_matrix(y_test,rfc_pred)\n",
    "print('Confusion Matrix : \\n', cm_rf)\n",
    "\n",
    "total1=sum(sum(cm_rf))\n",
    "#####from confusion matrix calculate accuracy\n",
    "accuracy1=(cm_rf[0,0]+cm_rf[1,1])/total1\n",
    "print ('Accuracy : ', accuracy1)\n",
    "\n",
    "sensitivity1 = cm_rf[0,0]/(cm_rf[0,0]+cm_rf[0,1])\n",
    "print('Sensitivity : ', sensitivity1 )\n",
    "\n",
    "specificity1 = cm_rf[1,1]/(cm_rf[1,0]+cm_rf[1,1])\n",
    "print('Specificity : ', specificity1)"
   ]
  },
  {
   "cell_type": "markdown",
   "metadata": {},
   "source": [
    "Gradient Boosting"
   ]
  },
  {
   "cell_type": "code",
   "execution_count": 78,
   "metadata": {},
   "outputs": [
    {
     "data": {
      "text/plain": [
       "0.7528101106926852"
      ]
     },
     "execution_count": 78,
     "metadata": {},
     "output_type": "execute_result"
    }
   ],
   "source": [
    "model_gb = GradientBoostingClassifier(learning_rate=0.01)\n",
    "model_gb.fit(X_train, y_train)\n",
    "y_pred_gb = model_gb.predict(X_test)\n",
    "false_positive_rate_gb, true_positive_rate_gb, thresholds = roc_curve(y_test, y_pred_gb)\n",
    "roc_auc_gb = auc(false_positive_rate_gb, true_positive_rate_gb)\n",
    "roc_auc_gb"
   ]
  },
  {
   "cell_type": "code",
   "execution_count": 79,
   "metadata": {},
   "outputs": [
    {
     "name": "stdout",
     "output_type": "stream",
     "text": [
      "Confusion Matrix : \n",
      " [[379   2]\n",
      " [ 45  47]]\n",
      "Accuracy :  0.9006342494714588\n",
      "Sensitivity :  0.994750656167979\n",
      "Specificity :  0.5108695652173914\n"
     ]
    }
   ],
   "source": [
    "cm1 = confusion_matrix(y_test,y_pred_gb)\n",
    "print('Confusion Matrix : \\n', cm1)\n",
    "\n",
    "total1=sum(sum(cm1))\n",
    "#####from confusion matrix calculate accuracy\n",
    "accuracy1=(cm1[0,0]+cm1[1,1])/total1\n",
    "print ('Accuracy : ', accuracy1)\n",
    "\n",
    "sensitivity1 = cm1[0,0]/(cm1[0,0]+cm1[0,1])\n",
    "print('Sensitivity : ', sensitivity1 )\n",
    "\n",
    "specificity1 = cm1[1,1]/(cm1[1,0]+cm1[1,1])\n",
    "print('Specificity : ', specificity1)"
   ]
  },
  {
   "cell_type": "markdown",
   "metadata": {},
   "source": [
    " Porbar con diferentes variables:"
   ]
  },
  {
   "cell_type": "code",
   "execution_count": 37,
   "metadata": {},
   "outputs": [
    {
     "data": {
      "text/plain": [
       "0.984251968503937"
      ]
     },
     "execution_count": 37,
     "metadata": {},
     "output_type": "execute_result"
    }
   ],
   "source": [
    "375     / (375    + 6)"
   ]
  },
  {
   "cell_type": "code",
   "execution_count": 36,
   "metadata": {},
   "outputs": [
    {
     "data": {
      "text/plain": [
       "0.5760869565217391"
      ]
     },
     "execution_count": 36,
     "metadata": {},
     "output_type": "execute_result"
    }
   ],
   "source": [
    "53  / (39 + 53)"
   ]
  },
  {
   "cell_type": "markdown",
   "metadata": {},
   "source": [
    "Se prueban diferentes modelos"
   ]
  },
  {
   "cell_type": "code",
   "execution_count": 104,
   "metadata": {},
   "outputs": [
    {
     "data": {
      "image/png": "[encoded data removed]",
      "text/plain": [
       "<Figure size 432x288 with 1 Axes>"
      ]
     },
     "metadata": {
      "needs_background": "light"
     },
     "output_type": "display_data"
    }
   ],
   "source": [
    "n_estimators = [1, 2, 4, 8, 16, 32, 64, 100, 200]\n",
    "train_results = []\n",
    "test_results = []\n",
    "for estimator in n_estimators:\n",
    "   model = GradientBoostingClassifier(n_estimators=estimator)\n",
    "   model.fit(X_train, y_train)\n",
    "   train_pred = model.predict(X_train)\n",
    "   false_positive_rate, true_positive_rate, thresholds = roc_curve(y_train, train_pred)\n",
    "   roc_auc = auc(false_positive_rate, true_positive_rate)\n",
    "   train_results.append(roc_auc)\n",
    "   y_pred = model.predict(X_test)\n",
    "   false_positive_rate, true_positive_rate, thresholds = roc_curve(y_test, y_pred)\n",
    "   roc_auc = auc(false_positive_rate, true_positive_rate)\n",
    "   test_results.append(roc_auc)\n",
    "line1, = plt.plot(n_estimators, train_results, 'b', label='Train AUC')\n",
    "line2, = plt.plot(n_estimators, test_results, 'r', label='Test AUC')\n",
    "plt.legend(handler_map={line1: HandlerLine2D(numpoints=2)})\n",
    "plt.ylabel('AUC score')\n",
    "plt.xlabel('n_estimators')\n",
    "plt.show()"
   ]
  },
  {
   "cell_type": "code",
   "execution_count": null,
   "metadata": {},
   "outputs": [],
   "source": [
    "# Ada boosting"
   ]
  }
 ],
 "metadata": {
  "kernelspec": {
   "display_name": "Python 3",
   "language": "python",
   "name": "python3"
  },
  "language_info": {
   "codemirror_mode": {
    "name": "ipython",
    "version": 3
   },
   "file_extension": ".py",
   "mimetype": "text/x-python",
   "name": "python",
   "nbconvert_exporter": "python",
   "pygments_lexer": "ipython3",
   "version": "3.7.3"
  }
 },
 "nbformat": 4,
 "nbformat_minor": 2
}
